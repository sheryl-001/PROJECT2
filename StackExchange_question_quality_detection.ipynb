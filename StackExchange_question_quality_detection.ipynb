{
  "nbformat": 4,
  "nbformat_minor": 0,
  "metadata": {
    "colab": {
      "provenance": [],
      "authorship_tag": "ABX9TyNXZaaeCip35cc+NjSykWFH"
    },
    "kernelspec": {
      "name": "python3",
      "display_name": "Python 3"
    },
    "language_info": {
      "name": "python"
    }
  },
  "cells": [
    {
      "cell_type": "code",
      "execution_count": 31,
      "metadata": {
        "colab": {
          "base_uri": "https://localhost:8080/"
        },
        "id": "XiIMAJhWTM2e",
        "outputId": "b9cc22f8-23f7-4889-b5a6-bd28600916b9"
      },
      "outputs": [
        {
          "output_type": "stream",
          "name": "stdout",
          "text": [
            "Drive already mounted at /content/gdrive; to attempt to forcibly remount, call drive.mount(\"/content/gdrive\", force_remount=True).\n"
          ]
        }
      ],
      "source": [
        "from google.colab import drive\n",
        "drive.mount('/content/gdrive')"
      ]
    },
    {
      "cell_type": "code",
      "source": [
        "import xml.etree.ElementTree as ET\n",
        "import pandas as pd\n",
        "from sklearn.feature_extraction.text import TfidfVectorizer\n",
        "from sklearn.model_selection import train_test_split\n",
        "from sklearn.metrics import accuracy_score\n",
        "from sklearn.linear_model import LogisticRegression\n",
        "\n",
        "# Parse XML file\n",
        "tree = ET.parse('/content/gdrive/MyDrive/Colab Notebooks/Posts.xml')\n",
        "root = tree.getroot()\n",
        "\n",
        "# Create a dictionary to store question data\n",
        "questions = {\n",
        "    'id': [],\n",
        "    'title': [],\n",
        "    'body': [],\n",
        "    'score': [],\n",
        "    'answer_count': []\n",
        "}\n",
        "\n",
        "# Extract relevant data from XML\n",
        "for child in root:\n",
        "    if child.attrib['PostTypeId'] == '1':  # Check if post is a question\n",
        "        questions['id'].append(child.attrib['Id'])\n",
        "        questions['title'].append(child.attrib['Title'])\n",
        "        questions['body'].append(child.attrib['Body'])\n",
        "        questions['score'].append(int(child.attrib['Score']))\n",
        "        questions['answer_count'].append(int(child.attrib['AnswerCount']))\n",
        "\n",
        "# Label the questions\n",
        "labels = []\n",
        "for i in range(len(questions['id'])):\n",
        "    if questions['score'][i] > 5 and questions['answer_count'][i] > 0:\n",
        "        labels.append('Good-Quality')\n",
        "    elif 0 <= questions['score'][i] <= 5 and questions['answer_count'][i] == 0:\n",
        "        labels.append('Low-Quality')\n",
        "    else:\n",
        "        labels.append('Very-Low-Quality')\n",
        "\n",
        "# Create a dataframe with features and labels\n",
        "df = pd.DataFrame({\n",
        "    'id': questions['id'],\n",
        "    'title': questions['title'],\n",
        "    'body': questions['body'],\n",
        "    'score': questions['score'],\n",
        "    'answer_count': questions['answer_count'],\n",
        "    'label': labels\n",
        "})\n",
        "\n",
        "# Extract features using TF-IDF\n",
        "vectorizer = TfidfVectorizer(stop_words='english')\n",
        "X = vectorizer.fit_transform(df['title'] + ' ' + df['body'])\n",
        "\n",
        "# Split data into training and testing sets\n",
        "X_train, X_test, y_train, y_test = train_test_split(X, df['label'], test_size=0.2, random_state=42)\n",
        "\n",
        "# Train logistic regression model\n",
        "clf = LogisticRegression()\n",
        "clf.fit(X_train, y_train)\n",
        "\n",
        "# Make predictions on test set\n",
        "y_pred = clf.predict(X_test)\n",
        "\n",
        "# Calculate accuracy\n",
        "accuracy = accuracy_score(y_test, y_pred)\n",
        "print('Accuracy:', accuracy)\n"
      ],
      "metadata": {
        "colab": {
          "base_uri": "https://localhost:8080/"
        },
        "id": "OlWQoN0rfDXa",
        "outputId": "39a238c2-da9d-4b4e-c82d-5e8e500e1570"
      },
      "execution_count": 32,
      "outputs": [
        {
          "output_type": "stream",
          "name": "stdout",
          "text": [
            "Accuracy: 0.738843630596208\n"
          ]
        },
        {
          "output_type": "stream",
          "name": "stderr",
          "text": [
            "/usr/local/lib/python3.8/dist-packages/sklearn/linear_model/_logistic.py:458: ConvergenceWarning: lbfgs failed to converge (status=1):\n",
            "STOP: TOTAL NO. of ITERATIONS REACHED LIMIT.\n",
            "\n",
            "Increase the number of iterations (max_iter) or scale the data as shown in:\n",
            "    https://scikit-learn.org/stable/modules/preprocessing.html\n",
            "Please also refer to the documentation for alternative solver options:\n",
            "    https://scikit-learn.org/stable/modules/linear_model.html#logistic-regression\n",
            "  n_iter_i = _check_optimize_result(\n"
          ]
        }
      ]
    },
    {
      "cell_type": "code",
      "source": [
        "import xml.etree.ElementTree as ET\n",
        "import pandas as pd\n",
        "import numpy as np\n",
        "from sklearn.linear_model import LogisticRegression\n",
        "from sklearn.model_selection import train_test_split\n",
        "from sklearn.metrics import confusion_matrix\n",
        "\n",
        "# Function to parse the XML file and extract required data\n",
        "def parse_XML(xml_file):\n",
        "    tree = ET.parse('/content/gdrive/MyDrive/Colab Notebooks/Posts.xml')\n",
        "    root = tree.getroot()\n",
        "    data = []\n",
        "    for post in root.findall('row'):\n",
        "        try:\n",
        "            post_id = int(post.get('Id'))\n",
        "            view_count = int(post.get('ViewCount'))\n",
        "            body_length = len(post.get('Body'))\n",
        "            title_length = len(post.get('Title'))\n",
        "            score = int(post.get('Score'))\n",
        "            answer_count = int(post.get('AnswerCount'))\n",
        "            comment_count = int(post.get('CommentCount'))\n",
        "            if score > 5 and answer_count > 0:\n",
        "                quality = 'Good'\n",
        "            elif score >= 0 and answer_count == 0:\n",
        "                quality = 'Low'\n",
        "            else:\n",
        "                quality = 'Very Low'\n",
        "            data.append([post_id, view_count, body_length, title_length, score, answer_count, comment_count, quality])\n",
        "        except:\n",
        "            pass\n",
        "    return pd.DataFrame(data, columns=['ID', 'ViewCount', 'BodyLength', 'TitleLength', 'Score', 'AnswerCount', 'CommentCount', 'Quality'])\n",
        "\n",
        "# Function to create additional features\n",
        "def create_features(df):\n",
        "    df['TitleLength2'] = df['TitleLength']**2\n",
        "    df['BodyLength2'] = df['BodyLength']**2\n",
        "    df['TitleLengthLog'] = np.log(df['TitleLength'])\n",
        "    df['BodyLengthLog'] = np.log(df['BodyLength'])\n",
        "    df['ViewCountLog'] = np.log(df['ViewCount'] + 1)\n",
        "    df['AnswerCountLog'] = np.log(df['AnswerCount'] + 1)\n",
        "    df['CommentCountLog'] = np.log(df['CommentCount'] + 1)\n",
        "    return df\n",
        "\n",
        "# Parse the XML file and create the dataset\n",
        "df = parse_XML('Posts.xml')\n",
        "\n",
        "# Create additional features\n",
        "df = create_features(df)\n",
        "\n",
        "# Split the dataset into train and test sets\n",
        "X_train, X_test, y_train, y_test = train_test_split(df.drop(['ID', 'Quality'], axis=1), df['Quality'], test_size=0.2, random_state=42)\n",
        "\n",
        "# Train a logistic regression model\n",
        "clf = LogisticRegression(random_state=42)\n",
        "clf.fit(X_train, y_train)\n",
        "\n",
        "# Evaluate the model on test set\n",
        "y_pred = clf.predict(X_test)\n",
        "print(confusion_matrix(y_test, y_pred))\n",
        "accuracy = accuracy_score(y_test, y_pred)\n",
        "print('Accuracy:', accuracy)"
      ],
      "metadata": {
        "colab": {
          "base_uri": "https://localhost:8080/"
        },
        "id": "lYHcKePehlkl",
        "outputId": "c1d2ff6e-1708-4dc9-8160-8f1d188b5dc1"
      },
      "execution_count": 33,
      "outputs": [
        {
          "output_type": "stream",
          "name": "stderr",
          "text": [
            "/usr/local/lib/python3.8/dist-packages/sklearn/linear_model/_logistic.py:458: ConvergenceWarning: lbfgs failed to converge (status=1):\n",
            "STOP: TOTAL NO. of ITERATIONS REACHED LIMIT.\n",
            "\n",
            "Increase the number of iterations (max_iter) or scale the data as shown in:\n",
            "    https://scikit-learn.org/stable/modules/preprocessing.html\n",
            "Please also refer to the documentation for alternative solver options:\n",
            "    https://scikit-learn.org/stable/modules/linear_model.html#logistic-regression\n",
            "  n_iter_i = _check_optimize_result(\n"
          ]
        },
        {
          "output_type": "stream",
          "name": "stdout",
          "text": [
            "[[  522     1  2611]\n",
            " [    3     6  4458]\n",
            " [  523    10 19608]]\n",
            "Accuracy: 0.7258308701607671\n"
          ]
        }
      ]
    },
    {
      "cell_type": "code",
      "source": [
        "import xml.etree.ElementTree as ET\n",
        "import pandas as pd\n",
        "from sklearn.feature_extraction.text import CountVectorizer\n",
        "from sklearn.naive_bayes import MultinomialNB\n",
        "from sklearn.metrics import accuracy_score\n",
        "import re\n",
        "# function to extract features from the XML file\n",
        "def extract_features(file_path):\n",
        "    tree = ET.parse(file_path)\n",
        "    root = tree.getroot()\n",
        "    features = []\n",
        "    for child in root:\n",
        "        score = int(child.get('Score'))\n",
        "        answer_count = (child.get('AnswerCount'))\n",
        "        title = child.get('Title')\n",
        "        body = child.get('Body')\n",
        "        tags = child.get('Tags')\n",
        "        view_count = (child.get('ViewCount'))\n",
        "        comment_count = int(child.get('CommentCount'))\n",
        "        if answer_count is not None:\n",
        "          if score > 5 and int(answer_count) > 0:\n",
        "              quality = 'good'\n",
        "          elif score >= 0 and int(answer_count) == 0:\n",
        "              quality = 'low'\n",
        "          else:\n",
        "              quality = 'very-low'\n",
        "        features.append({'title': title, 'body': body, 'tags': tags, 'view_count': view_count,\n",
        "                         'comment_count': comment_count, 'quality': quality})\n",
        "    return features\n",
        "\n",
        "# function to create a dataframe from the extracted features\n",
        "def create_dataframe(features):\n",
        "    df = pd.DataFrame(features, columns=['title', 'body', 'tags', 'view_count', 'comment_count', 'quality'])\n",
        "    df = df.dropna()\n",
        "    df['text'] = df['title'] + ' ' + df['body'] + ' ' + df['tags']\n",
        "    return df\n",
        "\n",
        "# function to preprocess the text data\n",
        "def preprocess_text(text):\n",
        "    text = text.lower()\n",
        "    text = re.sub(r'[^\\w\\s]', '', text)\n",
        "    return text\n",
        "\n",
        "# extract features from the XML file\n",
        "features = extract_features('/content/gdrive/MyDrive/Colab Notebooks/Posts.xml')\n",
        "\n",
        "# create a dataframe from the extracted features\n",
        "df = create_dataframe(features)\n",
        "\n",
        "# preprocess the text data\n",
        "df['text'] = df['text'].apply(preprocess_text)\n",
        "\n",
        "# create the feature matrix\n",
        "vectorizer = CountVectorizer(stop_words='english')\n",
        "X = vectorizer.fit_transform(df['text'])\n",
        "\n",
        "# create the label vector\n",
        "y = df['quality']\n",
        "\n",
        "# train the Multinomial-Naive Bayes classifier\n",
        "clf = MultinomialNB()\n",
        "clf.fit(X, y)\n",
        "\n",
        "# predict the labels for the test data\n",
        "y_pred = clf.predict(X)\n",
        "\n",
        "# calculate the accuracy of the classifier\n",
        "accuracy = accuracy_score(y, y_pred)\n",
        "\n",
        "print('Accuracy:', accuracy)\n"
      ],
      "metadata": {
        "colab": {
          "base_uri": "https://localhost:8080/"
        },
        "id": "oXeaf6LxiiXg",
        "outputId": "d7dbbd78-675b-44bc-aa57-1812c29065ed"
      },
      "execution_count": 34,
      "outputs": [
        {
          "output_type": "stream",
          "name": "stdout",
          "text": [
            "Accuracy: 0.7970441929204816\n"
          ]
        }
      ]
    },
    {
      "cell_type": "code",
      "source": [
        "import xml.etree.ElementTree as ET\n",
        "import pandas as pd\n",
        "from sklearn.model_selection import train_test_split\n",
        "from sklearn.ensemble import RandomForestClassifier\n",
        "from sklearn.metrics import accuracy_score\n",
        "\n",
        "# Parse the XML file and create a DataFrame of features\n",
        "tree = ET.parse('/content/gdrive/MyDrive/Colab Notebooks/Posts.xml')\n",
        "root = tree.getroot()\n",
        "features = []\n",
        "for child in root:\n",
        "    if child.attrib['PostTypeId'] == '1':  # Only consider questions\n",
        "        id = child.attrib['Id']\n",
        "        viewcount = int(child.attrib['ViewCount']) if 'ViewCount' in child.attrib else 0\n",
        "        score = int(child.attrib['Score']) if 'Score' in child.attrib else 0\n",
        "        answers = int(child.attrib['AnswerCount']) if 'AnswerCount' in child.attrib else 0\n",
        "        title = child.attrib['Title'] if 'Title' in child.attrib else ''\n",
        "        body = child.attrib['Body'] if 'Body' in child.attrib else ''\n",
        "        comments = int(child.attrib['CommentCount']) if 'CommentCount' in child.attrib else 0\n",
        "        features.append({'ID': id, 'ViewCount': viewcount, 'Score': score, 'Answers': answers,\n",
        "                         'Title': len(title), 'Body': len(body), 'Comments': comments})\n",
        "\n",
        "df = pd.DataFrame(features)\n",
        "\n",
        "# Label the data into three categories\n",
        "def label_quality(row):\n",
        "    if row['Score'] > 5 and row['Answers'] > 0:\n",
        "        return 'Good'\n",
        "    elif 0 <= row['Score'] <= 5 and row['Answers'] == 0:\n",
        "        return 'Low'\n",
        "    elif row['Score'] < 0:\n",
        "        return 'Very Low'\n",
        "    else:\n",
        "        return 'Unknown'\n",
        "df['Quality'] = df.apply(label_quality, axis=1)\n",
        "\n",
        "# Split the data into training and testing sets\n",
        "X_train, X_test, y_train, y_test = train_test_split(df[['ViewCount', 'Answers', 'Title', 'Body', 'Comments']], df['Quality'], test_size=0.2, random_state=42)\n",
        "\n",
        "# Train a random forest classifier and make predictions\n",
        "clf = RandomForestClassifier(n_estimators=100, random_state=42)\n",
        "clf.fit(X_train, y_train)\n",
        "y_pred = clf.predict(X_test)\n",
        "\n",
        "# Evaluate the performance of the classifier\n",
        "accuracy = accuracy_score(y_test, y_pred)\n",
        "print(f\"Accuracy: {accuracy:.2f}\")\n"
      ],
      "metadata": {
        "colab": {
          "base_uri": "https://localhost:8080/"
        },
        "id": "NznBPocHo-AD",
        "outputId": "037bc7a3-7125-4609-85cb-8be3dfd51b0e"
      },
      "execution_count": 35,
      "outputs": [
        {
          "output_type": "stream",
          "name": "stdout",
          "text": [
            "Accuracy: 0.84\n"
          ]
        }
      ]
    }
  ]
}